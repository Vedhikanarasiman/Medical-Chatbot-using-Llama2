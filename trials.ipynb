{
 "cells": [
  {
   "cell_type": "code",
   "execution_count": 6,
   "metadata": {},
   "outputs": [],
   "source": [
    "from langchain import PromptTemplate\n",
    "from langchain.chains import RetrievalQA\n",
    "from langchain.embeddings import HuggingFaceEmbeddings\n",
    "from langchain.vectorstores import pinecone\n",
    "import pinecone\n",
    "from langchain.document_loaders import PyPDFLoader, DirectoryLoader\n",
    "from langchain.text_splitter import RecursiveCharacterTextSplitter\n",
    "from langchain.prompts import PromptTemplate\n",
    "from langchain.llms import CTransformers"
   ]
  },
  {
   "cell_type": "code",
   "execution_count": 3,
   "metadata": {},
   "outputs": [],
   "source": [
    "PINECONE_API_KEY = \"ea68fca9-79ca-479c-b213-7ed6cf380b02\"\n"
   ]
  },
  {
   "cell_type": "code",
   "execution_count": 20,
   "metadata": {},
   "outputs": [],
   "source": [
    "def load_pdf(data):\n",
    "    # Initialize DirectoryLoader with the specified data directory, PDF file extension, and PyPDFLoader\n",
    "    loader = DirectoryLoader(data, glob=\".pdf\", loader_cls=PyPDFLoader)\n",
    "    \n",
    "    # Call the load() method on the loader object to load documents\n",
    "    documents = loader.load()\n",
    "    \n",
    "    return documents\n"
   ]
  },
  {
   "cell_type": "code",
   "execution_count": 21,
   "metadata": {},
   "outputs": [],
   "source": [
    "extracted_data = load_pdf(\"data/\")"
   ]
  },
  {
   "cell_type": "code",
   "execution_count": 22,
   "metadata": {},
   "outputs": [
    {
     "data": {
      "text/plain": [
       "[]"
      ]
     },
     "execution_count": 22,
     "metadata": {},
     "output_type": "execute_result"
    }
   ],
   "source": [
    "extracted_data"
   ]
  },
  {
   "cell_type": "code",
   "execution_count": 25,
   "metadata": {},
   "outputs": [
    {
     "name": "stdout",
     "output_type": "stream",
     "text": [
      "Extracted data: []\n"
     ]
    }
   ],
   "source": [
    "def load_pdf(data):\n",
    "    # Initialize DirectoryLoader with the specified data directory, PDF file extension, and PyPDFLoader\n",
    "    loader = DirectoryLoader(data, glob=\".pdf\", loader_cls=PyPDFLoader)\n",
    "    \n",
    "    # Call the load() method on the loader object to load documents\n",
    "    documents = loader.load()\n",
    "    \n",
    "    return documents\n",
    "\n",
    "# Call the load_pdf function and print the result for debugging\n",
    "extracted_data = load_pdf(\"data/\")\n",
    "print(\"Extracted data:\", extracted_data)\n",
    "\n"
   ]
  }
 ],
 "metadata": {
  "kernelspec": {
   "display_name": "Python 3 (ipykernel)",
   "language": "python",
   "name": "python3"
  },
  "language_info": {
   "codemirror_mode": {
    "name": "ipython",
    "version": 3
   },
   "file_extension": ".py",
   "mimetype": "text/x-python",
   "name": "python",
   "nbconvert_exporter": "python",
   "pygments_lexer": "ipython3",
   "version": "3.9.13"
  }
 },
 "nbformat": 4,
 "nbformat_minor": 2
}
